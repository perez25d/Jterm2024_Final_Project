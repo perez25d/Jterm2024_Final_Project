{
 "cells": [
  {
   "cell_type": "markdown",
   "metadata": {},
   "source": [
    "---\n",
    "title: An Analysis of \n",
    "subtitle: \n",
    "author:\n",
    "  - name: DeMario Perez\n",
    "    affiliations: North Carolina School of Science and Mathematics\n",
    "date: 2024/01/24\n",
    "---\n",
    "\n",
    "Rate Your Music is a website that allows users to give scores to \n",
    "\n",
    "All data was scraped from Rate Your Music on October 12, 2021 "
   ]
  },
  {
   "cell_type": "markdown",
   "metadata": {},
   "source": [
    "The following code allows for software within my mamba environment to be utilized within my later code"
   ]
  },
  {
   "cell_type": "code",
   "execution_count": null,
   "metadata": {},
   "outputs": [
    {
     "ename": "",
     "evalue": "",
     "output_type": "error",
     "traceback": [
      "\u001b[1;31mRunning cells with 'c:\\Users\\dpere\\AppData\\Local\\Programs\\Python\\Python311\\python.exe' requires the ipykernel package.\n",
      "\u001b[1;31mRun the following command to install 'ipykernel' into the Python environment. \n",
      "\u001b[1;31mCommand: 'c:/Users/dpere/AppData/Local/Programs/Python/Python311/python.exe -m pip install ipykernel -U --user --force-reinstall'"
     ]
    }
   ],
   "source": [
    "import pandas as pd\n",
    "import matplotlib.pyplot as plt\n",
    "import numpy as np\n",
    "from mpl_toolkits.mplot3d import Axes3D"
   ]
  },
  {
   "cell_type": "markdown",
   "metadata": {},
   "source": [
    "Running this results in this 3d-graph which depicts the specific year, the number of albums in the year, and the average rating of all the albums released in the year."
   ]
  },
  {
   "cell_type": "code",
   "execution_count": null,
   "metadata": {},
   "outputs": [
    {
     "ename": "",
     "evalue": "",
     "output_type": "error",
     "traceback": [
      "\u001b[1;31mRunning cells with 'c:\\Users\\dpere\\AppData\\Local\\Programs\\Python\\Python311\\python.exe' requires the ipykernel package.\n",
      "\u001b[1;31mRun the following command to install 'ipykernel' into the Python environment. \n",
      "\u001b[1;31mCommand: 'c:/Users/dpere/AppData/Local/Programs/Python/Python311/python.exe -m pip install ipykernel -U --user --force-reinstall'"
     ]
    }
   ],
   "source": [
    "![](#3d-model)\n",
    "points & bars"
   ]
  },
  {
   "cell_type": "code",
   "execution_count": null,
   "metadata": {},
   "outputs": [
    {
     "ename": "",
     "evalue": "",
     "output_type": "error",
     "traceback": [
      "\u001b[1;31mRunning cells with 'c:\\Users\\dpere\\AppData\\Local\\Programs\\Python\\Python311\\python.exe' requires the ipykernel package.\n",
      "\u001b[1;31mRun the following command to install 'ipykernel' into the Python environment. \n",
      "\u001b[1;31mCommand: 'c:/Users/dpere/AppData/Local/Programs/Python/Python311/python.exe -m pip install ipykernel -U --user --force-reinstall'"
     ]
    }
   ],
   "source": [
    "# https://matplotlib.org/stable/gallery/statistics/time_series_histogram.html#sphx-glr-gallery-statistics-time-series-histogram-py\n",
    "from copy import copy\n",
    "\n",
    "import numpy as np\n",
    "import numpy.matlib\n",
    "import matplotlib.pyplot as plt\n",
    "from matplotlib.colors import LogNorm"
   ]
  },
  {
   "cell_type": "code",
   "execution_count": null,
   "metadata": {},
   "outputs": [
    {
     "ename": "",
     "evalue": "",
     "output_type": "error",
     "traceback": [
      "\u001b[1;31mRunning cells with 'c:\\Users\\dpere\\AppData\\Local\\Programs\\Python\\Python311\\python.exe' requires the ipykernel package.\n",
      "\u001b[1;31mRun the following command to install 'ipykernel' into the Python environment. \n",
      "\u001b[1;31mCommand: 'c:/Users/dpere/AppData/Local/Programs/Python/Python311/python.exe -m pip install ipykernel -U --user --force-reinstall'"
     ]
    }
   ],
   "source": [
    "# Make some data; a 1D random walk + small fraction of sine waves\n",
    "num_series = 1000\n",
    "num_points = 100\n",
    "SNR = 0.10  # Signal to Noise Ratio\n",
    "x = np.linspace(0, 4 * np.pi, num_points)\n",
    "# Generate unbiased Gaussian random walks\n",
    "Y = np.cumsum(np.random.randn(num_series, num_points), axis=-1)\n",
    "# Generate sinusoidal signals\n",
    "num_signal = int(round(SNR * num_series))\n",
    "phi = (np.pi / 8) * np.random.randn(num_signal, 1)  # small random offset\n",
    "Y[-num_signal:] = (\n",
    "    np.sqrt(np.arange(num_points))[None, :]  # random walk RMS scaling factor\n",
    "    * (np.sin(x[None, :] - phi)\n",
    "       + 0.05 * np.random.randn(num_signal, num_points))  # small random noise\n",
    ")\n",
    "\n",
    "\n",
    "# Now we will convert the multiple time series into a histogram. Not only will\n",
    "# the hidden signal be more visible, but it is also a much quicker procedure.\n",
    "# Linearly interpolate between the points in each time series\n",
    "num_fine = 800\n",
    "x_fine = np.linspace(x.min(), x.max(), num_fine)\n",
    "y_fine = np.empty((num_series, num_fine), dtype=float)\n",
    "for i in range(num_series):\n",
    "    y_fine[i, :] = np.interp(x_fine, x, Y[i, :])\n",
    "y_fine = y_fine.flatten()\n",
    "x_fine = np.matlib.repmat(x_fine, num_series, 1).flatten()"
   ]
  },
  {
   "cell_type": "markdown",
   "metadata": {},
   "source": [
    "Important!\n",
    "This data is simulated, and may just be random noise! 🔊"
   ]
  },
  {
   "cell_type": "code",
   "execution_count": null,
   "metadata": {},
   "outputs": [
    {
     "ename": "",
     "evalue": "",
     "output_type": "error",
     "traceback": [
      "\u001b[1;31mRunning cells with 'c:\\Users\\dpere\\AppData\\Local\\Programs\\Python\\Python311\\python.exe' requires the ipykernel package.\n",
      "\u001b[1;31mRun the following command to install 'ipykernel' into the Python environment. \n",
      "\u001b[1;31mCommand: 'c:/Users/dpere/AppData/Local/Programs/Python/Python311/python.exe -m pip install ipykernel -U --user --force-reinstall'"
     ]
    }
   ],
   "source": [
    "# Load data from CSV file\n",
    "data = pd.read_csv('rym_top_5000_all_time.csv')\n",
    "\n",
    "# Fixing random state for reproducibility\n",
    "np.random.seed(19680801)\n",
    "\n",
    "fig = plt.figure()\n",
    "ax = fig.add_subplot(projection='3d')\n",
    "\n",
    "# Extract data from the DataFrame\n",
    "years = count_by_year['Year']\n",
    "counts = count_by_year['Count']\n",
    "ratings = average_ratings_by_year['Average Rating']\n",
    "\n",
    "# Scatter plot for each year\n",
    "ax.scatter(years, counts, ratings, marker='o')\n",
    "\n",
    "ax.set_xlabel('Year')\n",
    "ax.set_ylabel('count by year')\n",
    "ax.set_zlabel('average ratings by year')\n",
    "\n",
    "plt.show()"
   ]
  }
 ],
 "metadata": {
  "kernelspec": {
   "display_name": "Python 3 (ipykernel)",
   "language": "python",
   "name": "python3"
  },
  "language_info": {
   "codemirror_mode": {
    "name": "ipython",
    "version": 3
   },
   "file_extension": ".py",
   "mimetype": "text/x-python",
   "name": "python",
   "nbconvert_exporter": "python",
   "pygments_lexer": "ipython3",
   "version": "3.11.4"
  },
  "vscode": {
   "interpreter": {
    "hash": "d7b89e158b719c02a21186c9646700ecf5a8cc5b1b6f738df9b6ffa75e5e74e4"
   }
  }
 },
 "nbformat": 4,
 "nbformat_minor": 4
}
