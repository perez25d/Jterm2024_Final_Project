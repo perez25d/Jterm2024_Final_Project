{
 "cells": [
  {
   "cell_type": "code",
   "execution_count": 1,
   "id": "5a65cd25-fcb5-4215-aa38-93efe52d997b",
   "metadata": {},
   "outputs": [],
   "source": [
    "#Accurate rankings as of October 12th, 2021"
   ]
  },
  {
   "cell_type": "code",
   "execution_count": 2,
   "id": "b55ecfd9-92f2-4289-84e3-73ad1bc8c322",
   "metadata": {
    "editable": true,
    "slideshow": {
     "slide_type": ""
    },
    "tags": []
   },
   "outputs": [],
   "source": [
    "import pandas as pd\n",
    "import matplotlib.pyplot as plt\n",
    "import numpy as np\n",
    "from mpl_toolkits.mplot3d import Axes3D\n",
    "import plotly.express as px"
   ]
  },
  {
   "cell_type": "code",
   "execution_count": 3,
   "id": "2d8763c5-cafa-4da5-b8c3-fc49aa1db3b2",
   "metadata": {},
   "outputs": [
    {
     "data": {
      "text/plain": [
       "(5000, 9)"
      ]
     },
     "execution_count": 3,
     "metadata": {},
     "output_type": "execute_result"
    }
   ],
   "source": [
    "album_rankings = pd.read_csv(\"rym_top_5000_all_time.csv\")\n",
    "album_rankings.shape"
   ]
  },
  {
   "cell_type": "code",
   "execution_count": 4,
   "id": "af619736-aaa5-4976-8da6-6fd0ce01f016",
   "metadata": {
    "editable": true,
    "slideshow": {
     "slide_type": ""
    },
    "tags": []
   },
   "outputs": [
    {
     "name": "stderr",
     "output_type": "stream",
     "text": [
      "/tmp/ipykernel_934/2198543422.py:1: UserWarning: The argument 'infer_datetime_format' is deprecated and will be removed in a future version. A strict version of it is now the default, see https://pandas.pydata.org/pdeps/0004-consistent-to-datetime-parsing.html. You can safely remove this argument.\n",
      "  album_rankings['Release Date'] = pd.to_datetime(album_rankings['Release Date'], infer_datetime_format=True, format='mixed')\n"
     ]
    }
   ],
   "source": [
    "album_rankings['Release Date'] = pd.to_datetime(album_rankings['Release Date'], infer_datetime_format=True, format='mixed')"
   ]
  },
  {
   "cell_type": "code",
   "execution_count": 5,
   "id": "62b71357-19e2-4f86-a36d-3c98774a71bc",
   "metadata": {},
   "outputs": [],
   "source": [
    "album_rankings['Year'] =album_rankings['Release Date'].dt.year"
   ]
  },
  {
   "cell_type": "code",
   "execution_count": 6,
   "id": "b6f0860f-c5b2-4189-a794-dc80a9e2d983",
   "metadata": {},
   "outputs": [
    {
     "data": {
      "text/html": [
       "<div>\n",
       "<style scoped>\n",
       "    .dataframe tbody tr th:only-of-type {\n",
       "        vertical-align: middle;\n",
       "    }\n",
       "\n",
       "    .dataframe tbody tr th {\n",
       "        vertical-align: top;\n",
       "    }\n",
       "\n",
       "    .dataframe thead th {\n",
       "        text-align: right;\n",
       "    }\n",
       "</style>\n",
       "<table border=\"1\" class=\"dataframe\">\n",
       "  <thead>\n",
       "    <tr style=\"text-align: right;\">\n",
       "      <th></th>\n",
       "      <th>Ranking</th>\n",
       "      <th>Album</th>\n",
       "      <th>Artist Name</th>\n",
       "      <th>Release Date</th>\n",
       "      <th>Genres</th>\n",
       "      <th>Descriptors</th>\n",
       "      <th>Average Rating</th>\n",
       "      <th>Number of Ratings</th>\n",
       "      <th>Number of Reviews</th>\n",
       "      <th>Year</th>\n",
       "    </tr>\n",
       "  </thead>\n",
       "  <tbody>\n",
       "    <tr>\n",
       "      <th>3782</th>\n",
       "      <td>3783.0</td>\n",
       "      <td>Billie Holiday</td>\n",
       "      <td>Billie Holiday</td>\n",
       "      <td>1947-06-01</td>\n",
       "      <td>Vocal Jazz, Traditional Pop</td>\n",
       "      <td>sentimental, female vocals, melodic, melanchol...</td>\n",
       "      <td>3.73</td>\n",
       "      <td>371</td>\n",
       "      <td>2</td>\n",
       "      <td>1947</td>\n",
       "    </tr>\n",
       "    <tr>\n",
       "      <th>3202</th>\n",
       "      <td>3203.0</td>\n",
       "      <td>Masterpieces by Ellington</td>\n",
       "      <td>Duke Ellington and His Orchestra</td>\n",
       "      <td>1951-01-01</td>\n",
       "      <td>Big Band</td>\n",
       "      <td>acoustic, female vocals, melodic, mellow, roma...</td>\n",
       "      <td>3.74</td>\n",
       "      <td>944</td>\n",
       "      <td>22</td>\n",
       "      <td>1951</td>\n",
       "    </tr>\n",
       "    <tr>\n",
       "      <th>844</th>\n",
       "      <td>845.0</td>\n",
       "      <td>Tristan und Isolde</td>\n",
       "      <td>Wilhelm Furtwängler / Ludwig Suthaus / Kirsten...</td>\n",
       "      <td>1952-11-10</td>\n",
       "      <td>Opera, Romanticism</td>\n",
       "      <td>opera, epic, female vocals, romantic, male voc...</td>\n",
       "      <td>3.88</td>\n",
       "      <td>521</td>\n",
       "      <td>7</td>\n",
       "      <td>1952</td>\n",
       "    </tr>\n",
       "    <tr>\n",
       "      <th>4037</th>\n",
       "      <td>4038.0</td>\n",
       "      <td>Thelonious</td>\n",
       "      <td>Thelonious Monk Trio</td>\n",
       "      <td>1953-01-01</td>\n",
       "      <td>Hard Bop</td>\n",
       "      <td>quirky, rhythmic, raw, complex, acoustic, tech...</td>\n",
       "      <td>3.71</td>\n",
       "      <td>909</td>\n",
       "      <td>13</td>\n",
       "      <td>1953</td>\n",
       "    </tr>\n",
       "    <tr>\n",
       "      <th>1417</th>\n",
       "      <td>1418.0</td>\n",
       "      <td>Ellington Uptown</td>\n",
       "      <td>Duke Ellington and His Orchestra</td>\n",
       "      <td>1953-02-01</td>\n",
       "      <td>Big Band</td>\n",
       "      <td>acoustic, instrumental, dense, technical, urba...</td>\n",
       "      <td>3.83</td>\n",
       "      <td>1,425</td>\n",
       "      <td>25</td>\n",
       "      <td>1953</td>\n",
       "    </tr>\n",
       "    <tr>\n",
       "      <th>...</th>\n",
       "      <td>...</td>\n",
       "      <td>...</td>\n",
       "      <td>...</td>\n",
       "      <td>...</td>\n",
       "      <td>...</td>\n",
       "      <td>...</td>\n",
       "      <td>...</td>\n",
       "      <td>...</td>\n",
       "      <td>...</td>\n",
       "      <td>...</td>\n",
       "    </tr>\n",
       "    <tr>\n",
       "      <th>4367</th>\n",
       "      <td>4368.0</td>\n",
       "      <td>DELTARUNE Chapter 2</td>\n",
       "      <td>Toby Fox</td>\n",
       "      <td>2021-09-17</td>\n",
       "      <td>Video Game Music, Sequencer &amp; Tracker</td>\n",
       "      <td>instrumental, playful, quirky, melodic, eclect...</td>\n",
       "      <td>3.71</td>\n",
       "      <td>356</td>\n",
       "      <td>4</td>\n",
       "      <td>2021</td>\n",
       "    </tr>\n",
       "    <tr>\n",
       "      <th>1066</th>\n",
       "      <td>1067.0</td>\n",
       "      <td>A Beginner's Mind</td>\n",
       "      <td>Sufjan Stevens &amp; Angelo De Augustine</td>\n",
       "      <td>2021-09-24</td>\n",
       "      <td>Indie Folk</td>\n",
       "      <td>male vocals, ethereal, soft, concept album, me...</td>\n",
       "      <td>3.84</td>\n",
       "      <td>3,654</td>\n",
       "      <td>26</td>\n",
       "      <td>2021</td>\n",
       "    </tr>\n",
       "    <tr>\n",
       "      <th>3374</th>\n",
       "      <td>3375.0</td>\n",
       "      <td>Delta Estácio blues</td>\n",
       "      <td>Juçara Marçal</td>\n",
       "      <td>2021-09-30</td>\n",
       "      <td>Vanguarda paulista, Experimental Rock</td>\n",
       "      <td>female vocals, rhythmic, avant-garde, uncommon...</td>\n",
       "      <td>3.74</td>\n",
       "      <td>524</td>\n",
       "      <td>2</td>\n",
       "      <td>2021</td>\n",
       "    </tr>\n",
       "    <tr>\n",
       "      <th>3835</th>\n",
       "      <td>3836.0</td>\n",
       "      <td>Oxidized</td>\n",
       "      <td>Frontierer</td>\n",
       "      <td>2021-10-01</td>\n",
       "      <td>Mathcore</td>\n",
       "      <td>noisy, heavy, chaotic, rhythmic, dissonant, co...</td>\n",
       "      <td>3.69</td>\n",
       "      <td>961</td>\n",
       "      <td>18</td>\n",
       "      <td>2021</td>\n",
       "    </tr>\n",
       "    <tr>\n",
       "      <th>216</th>\n",
       "      <td>217.0</td>\n",
       "      <td>Mercurial World</td>\n",
       "      <td>Magdalena Bay</td>\n",
       "      <td>2021-10-08</td>\n",
       "      <td>Synthpop, Dance-Pop</td>\n",
       "      <td>melodic, ethereal, playful, female vocals, lus...</td>\n",
       "      <td>4.06</td>\n",
       "      <td>1,641</td>\n",
       "      <td>19</td>\n",
       "      <td>2021</td>\n",
       "    </tr>\n",
       "  </tbody>\n",
       "</table>\n",
       "<p>5000 rows × 10 columns</p>\n",
       "</div>"
      ],
      "text/plain": [
       "      Ranking                      Album  \\\n",
       "3782   3783.0             Billie Holiday   \n",
       "3202   3203.0  Masterpieces by Ellington   \n",
       "844     845.0         Tristan und Isolde   \n",
       "4037   4038.0                 Thelonious   \n",
       "1417   1418.0           Ellington Uptown   \n",
       "...       ...                        ...   \n",
       "4367   4368.0        DELTARUNE Chapter 2   \n",
       "1066   1067.0          A Beginner's Mind   \n",
       "3374   3375.0        Delta Estácio blues   \n",
       "3835   3836.0                   Oxidized   \n",
       "216     217.0            Mercurial World   \n",
       "\n",
       "                                            Artist Name Release Date  \\\n",
       "3782                                     Billie Holiday   1947-06-01   \n",
       "3202                   Duke Ellington and His Orchestra   1951-01-01   \n",
       "844   Wilhelm Furtwängler / Ludwig Suthaus / Kirsten...   1952-11-10   \n",
       "4037                               Thelonious Monk Trio   1953-01-01   \n",
       "1417                   Duke Ellington and His Orchestra   1953-02-01   \n",
       "...                                                 ...          ...   \n",
       "4367                                           Toby Fox   2021-09-17   \n",
       "1066               Sufjan Stevens & Angelo De Augustine   2021-09-24   \n",
       "3374                                      Juçara Marçal   2021-09-30   \n",
       "3835                                         Frontierer   2021-10-01   \n",
       "216                                       Magdalena Bay   2021-10-08   \n",
       "\n",
       "                                     Genres  \\\n",
       "3782            Vocal Jazz, Traditional Pop   \n",
       "3202                               Big Band   \n",
       "844                      Opera, Romanticism   \n",
       "4037                               Hard Bop   \n",
       "1417                               Big Band   \n",
       "...                                     ...   \n",
       "4367  Video Game Music, Sequencer & Tracker   \n",
       "1066                             Indie Folk   \n",
       "3374  Vanguarda paulista, Experimental Rock   \n",
       "3835                               Mathcore   \n",
       "216                     Synthpop, Dance-Pop   \n",
       "\n",
       "                                            Descriptors  Average Rating  \\\n",
       "3782  sentimental, female vocals, melodic, melanchol...            3.73   \n",
       "3202  acoustic, female vocals, melodic, mellow, roma...            3.74   \n",
       "844   opera, epic, female vocals, romantic, male voc...            3.88   \n",
       "4037  quirky, rhythmic, raw, complex, acoustic, tech...            3.71   \n",
       "1417  acoustic, instrumental, dense, technical, urba...            3.83   \n",
       "...                                                 ...             ...   \n",
       "4367  instrumental, playful, quirky, melodic, eclect...            3.71   \n",
       "1066  male vocals, ethereal, soft, concept album, me...            3.84   \n",
       "3374  female vocals, rhythmic, avant-garde, uncommon...            3.74   \n",
       "3835  noisy, heavy, chaotic, rhythmic, dissonant, co...            3.69   \n",
       "216   melodic, ethereal, playful, female vocals, lus...            4.06   \n",
       "\n",
       "     Number of Ratings  Number of Reviews  Year  \n",
       "3782               371                  2  1947  \n",
       "3202               944                 22  1951  \n",
       "844                521                  7  1952  \n",
       "4037               909                 13  1953  \n",
       "1417             1,425                 25  1953  \n",
       "...                ...                ...   ...  \n",
       "4367               356                  4  2021  \n",
       "1066             3,654                 26  2021  \n",
       "3374               524                  2  2021  \n",
       "3835               961                 18  2021  \n",
       "216              1,641                 19  2021  \n",
       "\n",
       "[5000 rows x 10 columns]"
      ]
     },
     "execution_count": 6,
     "metadata": {},
     "output_type": "execute_result"
    }
   ],
   "source": [
    "album_rankings.sort_values(by='Release Date')"
   ]
  },
  {
   "cell_type": "code",
   "execution_count": 7,
   "id": "dcc4160b-7fb9-475a-bee4-1483de82625b",
   "metadata": {},
   "outputs": [],
   "source": [
    "def separate_by_decade(df):\n",
    "    # Ensure 'Year' column is treated as integers\n",
    "    df['Year'] = pd.to_numeric(df['Year'], errors='coerce').fillna(0).astype(int)\n",
    "    \n",
    "    # Create a new column 'Decade' to store the decade information\n",
    "    df['Decade'] = (df['Year'] // 10) * 10\n",
    "\n",
    "    # Group by decade and aggregate the years into lists\n",
    "    result = df.groupby('Decade')['Year'].agg(list).reset_index()\n",
    "\n",
    "    return result"
   ]
  },
  {
   "cell_type": "code",
   "execution_count": 8,
   "id": "0d7ddfe6-befc-4fec-aec4-8622a09a94b4",
   "metadata": {},
   "outputs": [
    {
     "name": "stdout",
     "output_type": "stream",
     "text": [
      "   Decade                                               Year\n",
      "0    1940                                             [1947]\n",
      "1    1950  [1959, 1959, 1958, 1959, 1959, 1958, 1959, 195...\n",
      "2    1960  [1969, 1969, 1967, 1966, 1963, 1965, 1966, 196...\n",
      "3    1970  [1975, 1973, 1972, 1970, 1974, 1972, 1979, 197...\n",
      "4    1980  [1980, 1989, 1986, 1989, 1985, 1980, 1988, 198...\n",
      "5    1990  [1997, 1991, 1994, 1998, 1993, 1991, 1996, 199...\n",
      "6    2000  [2000, 2004, 2007, 2000, 2001, 2001, 2005, 200...\n",
      "7    2010  [2015, 2012, 2010, 2016, 2012, 2016, 2016, 201...\n",
      "8    2020  [2021, 2021, 2021, 2020, 2020, 2021, 2020, 202...\n"
     ]
    }
   ],
   "source": [
    "\n",
    "\n",
    "result_df = separate_by_decade(album_rankings)\n",
    "\n",
    "# Print the result DataFrame\n",
    "print(result_df)"
   ]
  },
  {
   "cell_type": "code",
   "execution_count": 9,
   "id": "0856c100-a830-4386-8e8b-e5c5173ad4c3",
   "metadata": {
    "editable": true,
    "slideshow": {
     "slide_type": ""
    },
    "tags": []
   },
   "outputs": [],
   "source": [
    "def add_decade_column(df):\n",
    "    # Ensure 'Year' column is treated as integers\n",
    "    df['Year'] = pd.to_numeric(df['Year'], errors='coerce').fillna(0).astype(int)\n",
    "    \n",
    "    # Create a new column 'Decade' to store the decade information\n",
    "    df['Decade'] = (df['Year'] // 10) * 10\n",
    "\n",
    "    return df"
   ]
  },
  {
   "cell_type": "code",
   "execution_count": 10,
   "id": "5272cf93-1877-4dba-a7d7-29eadd7c2660",
   "metadata": {},
   "outputs": [
    {
     "data": {
      "text/html": [
       "<div>\n",
       "<style scoped>\n",
       "    .dataframe tbody tr th:only-of-type {\n",
       "        vertical-align: middle;\n",
       "    }\n",
       "\n",
       "    .dataframe tbody tr th {\n",
       "        vertical-align: top;\n",
       "    }\n",
       "\n",
       "    .dataframe thead th {\n",
       "        text-align: right;\n",
       "    }\n",
       "</style>\n",
       "<table border=\"1\" class=\"dataframe\">\n",
       "  <thead>\n",
       "    <tr style=\"text-align: right;\">\n",
       "      <th></th>\n",
       "      <th>Ranking</th>\n",
       "      <th>Album</th>\n",
       "      <th>Artist Name</th>\n",
       "      <th>Release Date</th>\n",
       "      <th>Genres</th>\n",
       "      <th>Descriptors</th>\n",
       "      <th>Average Rating</th>\n",
       "      <th>Number of Ratings</th>\n",
       "      <th>Number of Reviews</th>\n",
       "      <th>Year</th>\n",
       "      <th>Decade</th>\n",
       "    </tr>\n",
       "  </thead>\n",
       "  <tbody>\n",
       "    <tr>\n",
       "      <th>0</th>\n",
       "      <td>1.0</td>\n",
       "      <td>OK Computer</td>\n",
       "      <td>Radiohead</td>\n",
       "      <td>1997-06-16</td>\n",
       "      <td>Alternative Rock, Art Rock</td>\n",
       "      <td>melancholic, anxious, futuristic, alienation, ...</td>\n",
       "      <td>4.23</td>\n",
       "      <td>70,382</td>\n",
       "      <td>1531</td>\n",
       "      <td>1997</td>\n",
       "      <td>1990</td>\n",
       "    </tr>\n",
       "    <tr>\n",
       "      <th>1</th>\n",
       "      <td>2.0</td>\n",
       "      <td>Wish You Were Here</td>\n",
       "      <td>Pink Floyd</td>\n",
       "      <td>1975-09-12</td>\n",
       "      <td>Progressive Rock, Art Rock</td>\n",
       "      <td>melancholic, atmospheric, progressive, male vo...</td>\n",
       "      <td>4.29</td>\n",
       "      <td>48,662</td>\n",
       "      <td>983</td>\n",
       "      <td>1975</td>\n",
       "      <td>1970</td>\n",
       "    </tr>\n",
       "    <tr>\n",
       "      <th>2</th>\n",
       "      <td>3.0</td>\n",
       "      <td>In the Court of the Crimson King</td>\n",
       "      <td>King Crimson</td>\n",
       "      <td>1969-10-10</td>\n",
       "      <td>Progressive Rock, Art Rock</td>\n",
       "      <td>fantasy, epic, progressive, philosophical, com...</td>\n",
       "      <td>4.30</td>\n",
       "      <td>44,943</td>\n",
       "      <td>870</td>\n",
       "      <td>1969</td>\n",
       "      <td>1960</td>\n",
       "    </tr>\n",
       "    <tr>\n",
       "      <th>3</th>\n",
       "      <td>4.0</td>\n",
       "      <td>Kid A</td>\n",
       "      <td>Radiohead</td>\n",
       "      <td>2000-10-03</td>\n",
       "      <td>Art Rock, Experimental Rock, Electronic</td>\n",
       "      <td>cold, melancholic, futuristic, atmospheric, an...</td>\n",
       "      <td>4.21</td>\n",
       "      <td>58,590</td>\n",
       "      <td>734</td>\n",
       "      <td>2000</td>\n",
       "      <td>2000</td>\n",
       "    </tr>\n",
       "    <tr>\n",
       "      <th>4</th>\n",
       "      <td>5.0</td>\n",
       "      <td>To Pimp a Butterfly</td>\n",
       "      <td>Kendrick Lamar</td>\n",
       "      <td>2015-03-15</td>\n",
       "      <td>Conscious Hip Hop, West Coast Hip Hop, Jazz Rap</td>\n",
       "      <td>political, conscious, poetic, protest, concept...</td>\n",
       "      <td>4.27</td>\n",
       "      <td>44,206</td>\n",
       "      <td>379</td>\n",
       "      <td>2015</td>\n",
       "      <td>2010</td>\n",
       "    </tr>\n",
       "    <tr>\n",
       "      <th>...</th>\n",
       "      <td>...</td>\n",
       "      <td>...</td>\n",
       "      <td>...</td>\n",
       "      <td>...</td>\n",
       "      <td>...</td>\n",
       "      <td>...</td>\n",
       "      <td>...</td>\n",
       "      <td>...</td>\n",
       "      <td>...</td>\n",
       "      <td>...</td>\n",
       "      <td>...</td>\n",
       "    </tr>\n",
       "    <tr>\n",
       "      <th>4995</th>\n",
       "      <td>4996.0</td>\n",
       "      <td>Gracious!</td>\n",
       "      <td>Gracious</td>\n",
       "      <td>1970-07-17</td>\n",
       "      <td>Progressive Rock, Symphonic Prog</td>\n",
       "      <td>NaN</td>\n",
       "      <td>3.69</td>\n",
       "      <td>565</td>\n",
       "      <td>32</td>\n",
       "      <td>1970</td>\n",
       "      <td>1970</td>\n",
       "    </tr>\n",
       "    <tr>\n",
       "      <th>4996</th>\n",
       "      <td>4997.0</td>\n",
       "      <td>Knights of the Cross</td>\n",
       "      <td>Grave Digger</td>\n",
       "      <td>1998-05-18</td>\n",
       "      <td>Power Metal, Heavy Metal</td>\n",
       "      <td>history, male vocals, heavy, concept album, an...</td>\n",
       "      <td>3.67</td>\n",
       "      <td>562</td>\n",
       "      <td>11</td>\n",
       "      <td>1998</td>\n",
       "      <td>1990</td>\n",
       "    </tr>\n",
       "    <tr>\n",
       "      <th>4997</th>\n",
       "      <td>4998.0</td>\n",
       "      <td>(Listen For) The Rag and Bone Man</td>\n",
       "      <td>And Also the Trees</td>\n",
       "      <td>2007-11-12</td>\n",
       "      <td>Art Rock</td>\n",
       "      <td>atmospheric, poetic, dark, male vocals, ominou...</td>\n",
       "      <td>3.68</td>\n",
       "      <td>524</td>\n",
       "      <td>15</td>\n",
       "      <td>2007</td>\n",
       "      <td>2000</td>\n",
       "    </tr>\n",
       "    <tr>\n",
       "      <th>4998</th>\n",
       "      <td>4999.0</td>\n",
       "      <td>Hymnen für elektronische und konkrete Klänge</td>\n",
       "      <td>Studio für elektronische Musik des Westdeutsch...</td>\n",
       "      <td>1969-01-01</td>\n",
       "      <td>Musique concrète, Modern Classical, Electronic</td>\n",
       "      <td>avant-garde, sampling, dense, complex, scary, ...</td>\n",
       "      <td>3.65</td>\n",
       "      <td>536</td>\n",
       "      <td>11</td>\n",
       "      <td>1969</td>\n",
       "      <td>1960</td>\n",
       "    </tr>\n",
       "    <tr>\n",
       "      <th>4999</th>\n",
       "      <td>5000.0</td>\n",
       "      <td>Adventures in Paradise</td>\n",
       "      <td>Minnie Riperton</td>\n",
       "      <td>1975-05-22</td>\n",
       "      <td>Smooth Soul, Pop Soul</td>\n",
       "      <td>lush, female vocals, romantic, uplifting, summ...</td>\n",
       "      <td>3.69</td>\n",
       "      <td>490</td>\n",
       "      <td>14</td>\n",
       "      <td>1975</td>\n",
       "      <td>1970</td>\n",
       "    </tr>\n",
       "  </tbody>\n",
       "</table>\n",
       "<p>5000 rows × 11 columns</p>\n",
       "</div>"
      ],
      "text/plain": [
       "      Ranking                                         Album  \\\n",
       "0         1.0                                   OK Computer   \n",
       "1         2.0                            Wish You Were Here   \n",
       "2         3.0              In the Court of the Crimson King   \n",
       "3         4.0                                         Kid A   \n",
       "4         5.0                           To Pimp a Butterfly   \n",
       "...       ...                                           ...   \n",
       "4995   4996.0                                     Gracious!   \n",
       "4996   4997.0                          Knights of the Cross   \n",
       "4997   4998.0             (Listen For) The Rag and Bone Man   \n",
       "4998   4999.0  Hymnen für elektronische und konkrete Klänge   \n",
       "4999   5000.0                        Adventures in Paradise   \n",
       "\n",
       "                                            Artist Name Release Date  \\\n",
       "0                                             Radiohead   1997-06-16   \n",
       "1                                            Pink Floyd   1975-09-12   \n",
       "2                                          King Crimson   1969-10-10   \n",
       "3                                             Radiohead   2000-10-03   \n",
       "4                                        Kendrick Lamar   2015-03-15   \n",
       "...                                                 ...          ...   \n",
       "4995                                           Gracious   1970-07-17   \n",
       "4996                                       Grave Digger   1998-05-18   \n",
       "4997                                 And Also the Trees   2007-11-12   \n",
       "4998  Studio für elektronische Musik des Westdeutsch...   1969-01-01   \n",
       "4999                                    Minnie Riperton   1975-05-22   \n",
       "\n",
       "                                               Genres  \\\n",
       "0                          Alternative Rock, Art Rock   \n",
       "1                          Progressive Rock, Art Rock   \n",
       "2                          Progressive Rock, Art Rock   \n",
       "3             Art Rock, Experimental Rock, Electronic   \n",
       "4     Conscious Hip Hop, West Coast Hip Hop, Jazz Rap   \n",
       "...                                               ...   \n",
       "4995                 Progressive Rock, Symphonic Prog   \n",
       "4996                         Power Metal, Heavy Metal   \n",
       "4997                                         Art Rock   \n",
       "4998   Musique concrète, Modern Classical, Electronic   \n",
       "4999                            Smooth Soul, Pop Soul   \n",
       "\n",
       "                                            Descriptors  Average Rating  \\\n",
       "0     melancholic, anxious, futuristic, alienation, ...            4.23   \n",
       "1     melancholic, atmospheric, progressive, male vo...            4.29   \n",
       "2     fantasy, epic, progressive, philosophical, com...            4.30   \n",
       "3     cold, melancholic, futuristic, atmospheric, an...            4.21   \n",
       "4     political, conscious, poetic, protest, concept...            4.27   \n",
       "...                                                 ...             ...   \n",
       "4995                                                NaN            3.69   \n",
       "4996  history, male vocals, heavy, concept album, an...            3.67   \n",
       "4997  atmospheric, poetic, dark, male vocals, ominou...            3.68   \n",
       "4998  avant-garde, sampling, dense, complex, scary, ...            3.65   \n",
       "4999  lush, female vocals, romantic, uplifting, summ...            3.69   \n",
       "\n",
       "     Number of Ratings  Number of Reviews  Year  Decade  \n",
       "0               70,382               1531  1997    1990  \n",
       "1               48,662                983  1975    1970  \n",
       "2               44,943                870  1969    1960  \n",
       "3               58,590                734  2000    2000  \n",
       "4               44,206                379  2015    2010  \n",
       "...                ...                ...   ...     ...  \n",
       "4995               565                 32  1970    1970  \n",
       "4996               562                 11  1998    1990  \n",
       "4997               524                 15  2007    2000  \n",
       "4998               536                 11  1969    1960  \n",
       "4999               490                 14  1975    1970  \n",
       "\n",
       "[5000 rows x 11 columns]"
      ]
     },
     "execution_count": 10,
     "metadata": {},
     "output_type": "execute_result"
    }
   ],
   "source": [
    "album_rankings\n"
   ]
  },
  {
   "cell_type": "code",
   "execution_count": 11,
   "id": "2f441898-b6a8-44b4-a462-cd0d4eddcba4",
   "metadata": {},
   "outputs": [
    {
     "name": "stdout",
     "output_type": "stream",
     "text": [
      "   Decade  Average Rating\n",
      "0    1940        3.730000\n",
      "1    1950        3.795500\n",
      "2    1960        3.801755\n",
      "3    1970        3.784188\n",
      "4    1980        3.765276\n",
      "5    1990        3.768880\n",
      "6    2000        3.751769\n",
      "7    2010        3.745602\n",
      "8    2020        3.730196\n"
     ]
    }
   ],
   "source": [
    "average_ratings_by_decade = album_rankings.groupby('Decade')['Average Rating'].mean().reset_index()\n",
    "\n",
    "# Print or use the result as needed\n",
    "print(average_ratings_by_decade)"
   ]
  },
  {
   "cell_type": "code",
   "execution_count": 12,
   "id": "832fbddc-7b10-409a-bf7c-482b82dc9053",
   "metadata": {},
   "outputs": [
    {
     "name": "stdout",
     "output_type": "stream",
     "text": [
      "   Decade  Count\n",
      "0    1940      1\n",
      "1    1950    120\n",
      "2    1960    564\n",
      "3    1970   1232\n",
      "4    1980    688\n",
      "5    1990   1080\n",
      "6    2000    882\n",
      "7    2010    382\n",
      "8    2020     51\n"
     ]
    }
   ],
   "source": [
    "# Group by 'Decade' and calculate the count of values for each decade\n",
    "count_by_decade = album_rankings.groupby('Decade')['Average Rating'].size().reset_index(name='Count')\n",
    "\n",
    "print(count_by_decade)"
   ]
  },
  {
   "cell_type": "code",
   "execution_count": 13,
   "id": "1cfdff0c-b5cc-4173-a226-d50c38ad20fd",
   "metadata": {},
   "outputs": [
    {
     "name": "stdout",
     "output_type": "stream",
     "text": [
      "    Year  Average Rating\n",
      "0   1947        3.730000\n",
      "1   1951        3.740000\n",
      "2   1952        3.880000\n",
      "3   1953        3.770000\n",
      "4   1954        3.770000\n",
      "..   ...             ...\n",
      "67  2017        3.737955\n",
      "68  2018        3.750556\n",
      "69  2019        3.742692\n",
      "70  2020        3.713226\n",
      "71  2021        3.756500\n",
      "\n",
      "[72 rows x 2 columns]\n"
     ]
    }
   ],
   "source": [
    "# Group by 'Year' and calculate the average rating for each individual year\n",
    "average_ratings_by_year = album_rankings.groupby('Year')['Average Rating'].mean().reset_index()\n",
    "\n",
    "# Print or use the result as needed\n",
    "print(average_ratings_by_year)"
   ]
  },
  {
   "cell_type": "code",
   "execution_count": 14,
   "id": "66e857d7-7df8-42b2-8537-4809fa9d9820",
   "metadata": {},
   "outputs": [
    {
     "name": "stdout",
     "output_type": "stream",
     "text": [
      "    Year  Count\n",
      "0   1947      1\n",
      "1   1951      1\n",
      "2   1952      1\n",
      "3   1953      2\n",
      "4   1954      6\n",
      "..   ...    ...\n",
      "67  2017     44\n",
      "68  2018     36\n",
      "69  2019     26\n",
      "70  2020     31\n",
      "71  2021     20\n",
      "\n",
      "[72 rows x 2 columns]\n"
     ]
    }
   ],
   "source": [
    "# Group by 'Year' and calculate the count of values for each individual year\n",
    "count_by_year = album_rankings.groupby('Year')['Average Rating'].size().reset_index(name='Count')\n",
    "\n",
    "# Print or use the result as needed\n",
    "print(count_by_year)"
   ]
  },
  {
   "cell_type": "code",
   "execution_count": 15,
   "id": "e0b10181-2a05-4d6b-8b77-11e21611e419",
   "metadata": {},
   "outputs": [
    {
     "data": {
      "text/plain": [
       "0     3.730000\n",
       "1     3.740000\n",
       "2     3.880000\n",
       "3     3.770000\n",
       "4     3.770000\n",
       "        ...   \n",
       "67    3.737955\n",
       "68    3.750556\n",
       "69    3.742692\n",
       "70    3.713226\n",
       "71    3.756500\n",
       "Name: Average Rating, Length: 72, dtype: float64"
      ]
     },
     "execution_count": 15,
     "metadata": {},
     "output_type": "execute_result"
    }
   ],
   "source": [
    "average_ratings_by_year['Average Rating']"
   ]
  },
  {
   "cell_type": "code",
   "execution_count": 16,
   "id": "a34009ac-bd68-49bf-a0e1-52b8cfb66215",
   "metadata": {},
   "outputs": [
    {
     "data": {
      "image/png": "[encoded data removed]",
      "text/plain": [
       "<Figure size 640x480 with 1 Axes>"
      ]
     },
     "metadata": {},
     "output_type": "display_data"
    }
   ],
   "source": [
    "# Load data from CSV file\n",
    "data = pd.read_csv('rym_top_5000_all_time.csv')\n",
    "\n",
    "# Fixing random state for reproducibility\n",
    "np.random.seed(19680801)\n",
    "\n",
    "fig = plt.figure()\n",
    "ax = fig.add_subplot(projection='3d')\n",
    "\n",
    "# Extract data from the DataFrame\n",
    "years = count_by_year['Year']\n",
    "counts = count_by_year['Count']\n",
    "ratings = average_ratings_by_year['Average Rating']\n",
    "\n",
    "# Scatter plot for each year\n",
    "ax.scatter(years, counts, ratings, marker='o')\n",
    "\n",
    "ax.set_xlabel('Year')\n",
    "ax.set_ylabel('count by year')\n",
    "ax.set_zlabel('average ratings by year')\n",
    "\n",
    "plt.show()"
   ]
  },
  {
   "cell_type": "code",
   "execution_count": 26,
   "id": "fe7a80ec-061d-4155-93c0-dc11033420d6",
   "metadata": {
    "scrolled": true
   },
   "outputs": [
    {
     "data": {
      "application/vnd.plotly.v1+json": {
       "config": {
        "plotlyServerURL": "https://plot.ly"
       },
       "data": [
        {
         "hovertemplate": "x=%{x}<br>y=%{y}<br>z=%{z}<extra></extra>",
         "legendgroup": "",
         "marker": {
          "color": "#636efa",
          "symbol": "circle"
         },
         "mode": "markers",
         "name": "",
         "scene": "scene",
         "showlegend": false,
         "type": "scatter3d",
         "x": [
          1947,
          1951,
          1952,
          1953,
          1954,
          1955,
          1956,
          1957,
          1958,
          1959,
          1960,
          1961,
          1962,
          1963,
          1964,
          1965,
          1966,
          1967,
          1968,
          1969,
          1970,
          1971,
          1972,
          1973,
          1974,
          1975,
          1976,
          1977,
          1978,
          1979,
          1980,
          1981,
          1982,
          1983,
          1984,
          1985,
          1986,
          1987,
          1988,
          1989,
          1990,
          1991,
          1992,
          1993,
          1994,
          1995,
          1996,
          1997,
          1998,
          1999,
          2000,
          2001,
          2002,
          2003,
          2004,
          2005,
          2006,
          2007,
          2008,
          2009,
          2010,
          2011,
          2012,
          2013,
          2014,
          2015,
          2016,
          2017,
          2018,
          2019,
          2020,
          2021
         ],
         "y": [
          1,
          1,
          1,
          2,
          6,
          8,
          15,
          24,
          25,
          38,
          23,
          31,
          35,
          29,
          44,
          52,
          58,
          80,
          85,
          127,
          142,
          160,
          144,
          159,
          132,
          120,
          89,
          101,
          94,
          91,
          74,
          55,
          66,
          58,
          70,
          64,
          72,
          66,
          80,
          83,
          75,
          88,
          97,
          102,
          135,
          123,
          120,
          116,
          116,
          108,
          109,
          108,
          105,
          109,
          98,
          104,
          81,
          67,
          47,
          54,
          43,
          40,
          30,
          41,
          36,
          37,
          49,
          44,
          36,
          26,
          31,
          20
         ],
         "z": [
          3.73,
          3.74,
          3.88,
          3.77,
          3.77,
          3.73875,
          3.788,
          3.7779166666666666,
          3.8156,
          3.812894736842105,
          3.8030434782608693,
          3.8116129032258064,
          3.775714285714286,
          3.8113793103448277,
          3.7981818181818183,
          3.828653846153846,
          3.8165517241379314,
          3.8111249999999997,
          3.786,
          3.792204724409449,
          3.780774647887324,
          3.795875,
          3.7996527777777778,
          3.7834591194968556,
          3.7836363636363637,
          3.7840833333333332,
          3.7798876404494384,
          3.7847524752475246,
          3.7772340425531916,
          3.7574725274725274,
          3.7635135135135136,
          3.7532727272727273,
          3.7615151515151513,
          3.7617241379310347,
          3.7858571428571426,
          3.76703125,
          3.7695833333333337,
          3.7512121212121214,
          3.7670000000000003,
          3.7673493975903614,
          3.7629333333333337,
          3.765681818181818,
          3.76979381443299,
          3.7606862745098035,
          3.780814814814815,
          3.768617886178862,
          3.759916666666667,
          3.77551724137931,
          3.7667241379310346,
          3.7730555555555556,
          3.77091743119266,
          3.768148148148148,
          3.7572380952380953,
          3.7532110091743123,
          3.7485714285714287,
          3.7422115384615386,
          3.752469135802469,
          3.7344776119402985,
          3.732340425531915,
          3.7283333333333335,
          3.7539534883720926,
          3.73675,
          3.7520000000000002,
          3.715365853658537,
          3.7447222222222223,
          3.7505405405405408,
          3.7685714285714287,
          3.7379545454545453,
          3.7505555555555556,
          3.742692307692308,
          3.713225806451613,
          3.7565
         ]
        }
       ],
       "layout": {
        "autosize": true,
        "legend": {
         "tracegroupgap": 0
        },
        "margin": {
         "t": 60
        },
        "scene": {
         "aspectmode": "auto",
         "aspectratio": {
          "x": 1,
          "y": 1,
          "z": 1
         },
         "camera": {
          "center": {
           "x": 0,
           "y": 0,
           "z": 0
          },
          "eye": {
           "x": 1.169053287596041,
           "y": 1.2571424014252548,
           "z": 0.6486507521590176
          },
          "projection": {
           "type": "perspective"
          },
          "up": {
           "x": 0,
           "y": 0,
           "z": 1
          }
         },
         "domain": {
          "x": [
           0,
           1
          ],
          "y": [
           0,
           1
          ]
         },
         "xaxis": {
          "title": {
           "text": "x"
          },
          "type": "linear"
         },
         "yaxis": {
          "title": {
           "text": "y"
          },
          "type": "linear"
         },
         "zaxis": {
          "title": {
           "text": "z"
          },
          "type": "linear"
         }
        },
        "template": {
         "data": {
          "bar": [
           {
            "error_x": {
             "color": "#2a3f5f"
            },
            "error_y": {
             "color": "#2a3f5f"
            },
            "marker": {
             "line": {
              "color": "#E5ECF6",
              "width": 0.5
             },
             "pattern": {
              "fillmode": "overlay",
              "size": 10,
              "solidity": 0.2
             }
            },
            "type": "bar"
           }
          ],
          "barpolar": [
           {
            "marker": {
             "line": {
              "color": "#E5ECF6",
              "width": 0.5
             },
             "pattern": {
              "fillmode": "overlay",
              "size": 10,
              "solidity": 0.2
             }
            },
            "type": "barpolar"
           }
          ],
          "carpet": [
           {
            "aaxis": {
             "endlinecolor": "#2a3f5f",
             "gridcolor": "white",
             "linecolor": "white",
             "minorgridcolor": "white",
             "startlinecolor": "#2a3f5f"
            },
            "baxis": {
             "endlinecolor": "#2a3f5f",
             "gridcolor": "white",
             "linecolor": "white",
             "minorgridcolor": "white",
             "startlinecolor": "#2a3f5f"
            },
            "type": "carpet"
           }
          ],
          "choropleth": [
           {
            "colorbar": {
             "outlinewidth": 0,
             "ticks": ""
            },
            "type": "choropleth"
           }
          ],
          "contour": [
           {
            "colorbar": {
             "outlinewidth": 0,
             "ticks": ""
            },
            "colorscale": [
             [
              0,
              "#0d0887"
             ],
             [
              0.1111111111111111,
              "#46039f"
             ],
             [
              0.2222222222222222,
              "#7201a8"
             ],
             [
              0.3333333333333333,
              "#9c179e"
             ],
             [
              0.4444444444444444,
              "#bd3786"
             ],
             [
              0.5555555555555556,
              "#d8576b"
             ],
             [
              0.6666666666666666,
              "#ed7953"
             ],
             [
              0.7777777777777778,
              "#fb9f3a"
             ],
             [
              0.8888888888888888,
              "#fdca26"
             ],
             [
              1,
              "#f0f921"
             ]
            ],
            "type": "contour"
           }
          ],
          "contourcarpet": [
           {
            "colorbar": {
             "outlinewidth": 0,
             "ticks": ""
            },
            "type": "contourcarpet"
           }
          ],
          "heatmap": [
           {
            "colorbar": {
             "outlinewidth": 0,
             "ticks": ""
            },
            "colorscale": [
             [
              0,
              "#0d0887"
             ],
             [
              0.1111111111111111,
              "#46039f"
             ],
             [
              0.2222222222222222,
              "#7201a8"
             ],
             [
              0.3333333333333333,
              "#9c179e"
             ],
             [
              0.4444444444444444,
              "#bd3786"
             ],
             [
              0.5555555555555556,
              "#d8576b"
             ],
             [
              0.6666666666666666,
              "#ed7953"
             ],
             [
              0.7777777777777778,
              "#fb9f3a"
             ],
             [
              0.8888888888888888,
              "#fdca26"
             ],
             [
              1,
              "#f0f921"
             ]
            ],
            "type": "heatmap"
           }
          ],
          "heatmapgl": [
           {
            "colorbar": {
             "outlinewidth": 0,
             "ticks": ""
            },
            "colorscale": [
             [
              0,
              "#0d0887"
             ],
             [
              0.1111111111111111,
              "#46039f"
             ],
             [
              0.2222222222222222,
              "#7201a8"
             ],
             [
              0.3333333333333333,
              "#9c179e"
             ],
             [
              0.4444444444444444,
              "#bd3786"
             ],
             [
              0.5555555555555556,
              "#d8576b"
             ],
             [
              0.6666666666666666,
              "#ed7953"
             ],
             [
              0.7777777777777778,
              "#fb9f3a"
             ],
             [
              0.8888888888888888,
              "#fdca26"
             ],
             [
              1,
              "#f0f921"
             ]
            ],
            "type": "heatmapgl"
           }
          ],
          "histogram": [
           {
            "marker": {
             "pattern": {
              "fillmode": "overlay",
              "size": 10,
              "solidity": 0.2
             }
            },
            "type": "histogram"
           }
          ],
          "histogram2d": [
           {
            "colorbar": {
             "outlinewidth": 0,
             "ticks": ""
            },
            "colorscale": [
             [
              0,
              "#0d0887"
             ],
             [
              0.1111111111111111,
              "#46039f"
             ],
             [
              0.2222222222222222,
              "#7201a8"
             ],
             [
              0.3333333333333333,
              "#9c179e"
             ],
             [
              0.4444444444444444,
              "#bd3786"
             ],
             [
              0.5555555555555556,
              "#d8576b"
             ],
             [
              0.6666666666666666,
              "#ed7953"
             ],
             [
              0.7777777777777778,
              "#fb9f3a"
             ],
             [
              0.8888888888888888,
              "#fdca26"
             ],
             [
              1,
              "#f0f921"
             ]
            ],
            "type": "histogram2d"
           }
          ],
          "histogram2dcontour": [
           {
            "colorbar": {
             "outlinewidth": 0,
             "ticks": ""
            },
            "colorscale": [
             [
              0,
              "#0d0887"
             ],
             [
              0.1111111111111111,
              "#46039f"
             ],
             [
              0.2222222222222222,
              "#7201a8"
             ],
             [
              0.3333333333333333,
              "#9c179e"
             ],
             [
              0.4444444444444444,
              "#bd3786"
             ],
             [
              0.5555555555555556,
              "#d8576b"
             ],
             [
              0.6666666666666666,
              "#ed7953"
             ],
             [
              0.7777777777777778,
              "#fb9f3a"
             ],
             [
              0.8888888888888888,
              "#fdca26"
             ],
             [
              1,
              "#f0f921"
             ]
            ],
            "type": "histogram2dcontour"
           }
          ],
          "mesh3d": [
           {
            "colorbar": {
             "outlinewidth": 0,
             "ticks": ""
            },
            "type": "mesh3d"
           }
          ],
          "parcoords": [
           {
            "line": {
             "colorbar": {
              "outlinewidth": 0,
              "ticks": ""
             }
            },
            "type": "parcoords"
           }
          ],
          "pie": [
           {
            "automargin": true,
            "type": "pie"
           }
          ],
          "scatter": [
           {
            "fillpattern": {
             "fillmode": "overlay",
             "size": 10,
             "solidity": 0.2
            },
            "type": "scatter"
           }
          ],
          "scatter3d": [
           {
            "line": {
             "colorbar": {
              "outlinewidth": 0,
              "ticks": ""
             }
            },
            "marker": {
             "colorbar": {
              "outlinewidth": 0,
              "ticks": ""
             }
            },
            "type": "scatter3d"
           }
          ],
          "scattercarpet": [
           {
            "marker": {
             "colorbar": {
              "outlinewidth": 0,
              "ticks": ""
             }
            },
            "type": "scattercarpet"
           }
          ],
          "scattergeo": [
           {
            "marker": {
             "colorbar": {
              "outlinewidth": 0,
              "ticks": ""
             }
            },
            "type": "scattergeo"
           }
          ],
          "scattergl": [
           {
            "marker": {
             "colorbar": {
              "outlinewidth": 0,
              "ticks": ""
             }
            },
            "type": "scattergl"
           }
          ],
          "scattermapbox": [
           {
            "marker": {
             "colorbar": {
              "outlinewidth": 0,
              "ticks": ""
             }
            },
            "type": "scattermapbox"
           }
          ],
          "scatterpolar": [
           {
            "marker": {
             "colorbar": {
              "outlinewidth": 0,
              "ticks": ""
             }
            },
            "type": "scatterpolar"
           }
          ],
          "scatterpolargl": [
           {
            "marker": {
             "colorbar": {
              "outlinewidth": 0,
              "ticks": ""
             }
            },
            "type": "scatterpolargl"
           }
          ],
          "scatterternary": [
           {
            "marker": {
             "colorbar": {
              "outlinewidth": 0,
              "ticks": ""
             }
            },
            "type": "scatterternary"
           }
          ],
          "surface": [
           {
            "colorbar": {
             "outlinewidth": 0,
             "ticks": ""
            },
            "colorscale": [
             [
              0,
              "#0d0887"
             ],
             [
              0.1111111111111111,
              "#46039f"
             ],
             [
              0.2222222222222222,
              "#7201a8"
             ],
             [
              0.3333333333333333,
              "#9c179e"
             ],
             [
              0.4444444444444444,
              "#bd3786"
             ],
             [
              0.5555555555555556,
              "#d8576b"
             ],
             [
              0.6666666666666666,
              "#ed7953"
             ],
             [
              0.7777777777777778,
              "#fb9f3a"
             ],
             [
              0.8888888888888888,
              "#fdca26"
             ],
             [
              1,
              "#f0f921"
             ]
            ],
            "type": "surface"
           }
          ],
          "table": [
           {
            "cells": {
             "fill": {
              "color": "#EBF0F8"
             },
             "line": {
              "color": "white"
             }
            },
            "header": {
             "fill": {
              "color": "#C8D4E3"
             },
             "line": {
              "color": "white"
             }
            },
            "type": "table"
           }
          ]
         },
         "layout": {
          "annotationdefaults": {
           "arrowcolor": "#2a3f5f",
           "arrowhead": 0,
           "arrowwidth": 1
          },
          "autotypenumbers": "strict",
          "coloraxis": {
           "colorbar": {
            "outlinewidth": 0,
            "ticks": ""
           }
          },
          "colorscale": {
           "diverging": [
            [
             0,
             "#8e0152"
            ],
            [
             0.1,
             "#c51b7d"
            ],
            [
             0.2,
             "#de77ae"
            ],
            [
             0.3,
             "#f1b6da"
            ],
            [
             0.4,
             "#fde0ef"
            ],
            [
             0.5,
             "#f7f7f7"
            ],
            [
             0.6,
             "#e6f5d0"
            ],
            [
             0.7,
             "#b8e186"
            ],
            [
             0.8,
             "#7fbc41"
            ],
            [
             0.9,
             "#4d9221"
            ],
            [
             1,
             "#276419"
            ]
           ],
           "sequential": [
            [
             0,
             "#0d0887"
            ],
            [
             0.1111111111111111,
             "#46039f"
            ],
            [
             0.2222222222222222,
             "#7201a8"
            ],
            [
             0.3333333333333333,
             "#9c179e"
            ],
            [
             0.4444444444444444,
             "#bd3786"
            ],
            [
             0.5555555555555556,
             "#d8576b"
            ],
            [
             0.6666666666666666,
             "#ed7953"
            ],
            [
             0.7777777777777778,
             "#fb9f3a"
            ],
            [
             0.8888888888888888,
             "#fdca26"
            ],
            [
             1,
             "#f0f921"
            ]
           ],
           "sequentialminus": [
            [
             0,
             "#0d0887"
            ],
            [
             0.1111111111111111,
             "#46039f"
            ],
            [
             0.2222222222222222,
             "#7201a8"
            ],
            [
             0.3333333333333333,
             "#9c179e"
            ],
            [
             0.4444444444444444,
             "#bd3786"
            ],
            [
             0.5555555555555556,
             "#d8576b"
            ],
            [
             0.6666666666666666,
             "#ed7953"
            ],
            [
             0.7777777777777778,
             "#fb9f3a"
            ],
            [
             0.8888888888888888,
             "#fdca26"
            ],
            [
             1,
             "#f0f921"
            ]
           ]
          },
          "colorway": [
           "#636efa",
           "#EF553B",
           "#00cc96",
           "#ab63fa",
           "#FFA15A",
           "#19d3f3",
           "#FF6692",
           "#B6E880",
           "#FF97FF",
           "#FECB52"
          ],
          "font": {
           "color": "#2a3f5f"
          },
          "geo": {
           "bgcolor": "white",
           "lakecolor": "white",
           "landcolor": "#E5ECF6",
           "showlakes": true,
           "showland": true,
           "subunitcolor": "white"
          },
          "hoverlabel": {
           "align": "left"
          },
          "hovermode": "closest",
          "mapbox": {
           "style": "light"
          },
          "paper_bgcolor": "white",
          "plot_bgcolor": "#E5ECF6",
          "polar": {
           "angularaxis": {
            "gridcolor": "white",
            "linecolor": "white",
            "ticks": ""
           },
           "bgcolor": "#E5ECF6",
           "radialaxis": {
            "gridcolor": "white",
            "linecolor": "white",
            "ticks": ""
           }
          },
          "scene": {
           "xaxis": {
            "backgroundcolor": "#E5ECF6",
            "gridcolor": "white",
            "gridwidth": 2,
            "linecolor": "white",
            "showbackground": true,
            "ticks": "",
            "zerolinecolor": "white"
           },
           "yaxis": {
            "backgroundcolor": "#E5ECF6",
            "gridcolor": "white",
            "gridwidth": 2,
            "linecolor": "white",
            "showbackground": true,
            "ticks": "",
            "zerolinecolor": "white"
           },
           "zaxis": {
            "backgroundcolor": "#E5ECF6",
            "gridcolor": "white",
            "gridwidth": 2,
            "linecolor": "white",
            "showbackground": true,
            "ticks": "",
            "zerolinecolor": "white"
           }
          },
          "shapedefaults": {
           "line": {
            "color": "#2a3f5f"
           }
          },
          "ternary": {
           "aaxis": {
            "gridcolor": "white",
            "linecolor": "white",
            "ticks": ""
           },
           "baxis": {
            "gridcolor": "white",
            "linecolor": "white",
            "ticks": ""
           },
           "bgcolor": "#E5ECF6",
           "caxis": {
            "gridcolor": "white",
            "linecolor": "white",
            "ticks": ""
           }
          },
          "title": {
           "x": 0.05
          },
          "xaxis": {
           "automargin": true,
           "gridcolor": "white",
           "linecolor": "white",
           "ticks": "",
           "title": {
            "standoff": 15
           },
           "zerolinecolor": "white",
           "zerolinewidth": 2
          },
          "yaxis": {
           "automargin": true,
           "gridcolor": "white",
           "linecolor": "white",
           "ticks": "",
           "title": {
            "standoff": 15
           },
           "zerolinecolor": "white",
           "zerolinewidth": 2
          }
         }
        }
       }
      },
      "image/png": "[encoded data removed]",
      "text/html": [
       "<div>                            <div id=\"dca54ea3-0258-4139-98af-9afb602d1de7\" class=\"plotly-graph-div\" style=\"height:525px; width:100%;\"></div>            <script type=\"text/javascript\">                require([\"plotly\"], function(Plotly) {                    window.PLOTLYENV=window.PLOTLYENV || {};                                    if (document.getElementById(\"dca54ea3-0258-4139-98af-9afb602d1de7\")) {                    Plotly.newPlot(                        \"dca54ea3-0258-4139-98af-9afb602d1de7\",                        [{\"hovertemplate\":\"x=%{x}\\u003cbr\\u003ey=%{y}\\u003cbr\\u003ez=%{z}\\u003cextra\\u003e\\u003c\\u002fextra\\u003e\",\"legendgroup\":\"\",\"marker\":{\"color\":\"#636efa\",\"symbol\":\"circle\"},\"mode\":\"markers\",\"name\":\"\",\"scene\":\"scene\",\"showlegend\":false,\"x\":[1947,1951,1952,1953,1954,1955,1956,1957,1958,1959,1960,1961,1962,1963,1964,1965,1966,1967,1968,1969,1970,1971,1972,1973,1974,1975,1976,1977,1978,1979,1980,1981,1982,1983,1984,1985,1986,1987,1988,1989,1990,1991,1992,1993,1994,1995,1996,1997,1998,1999,2000,2001,2002,2003,2004,2005,2006,2007,2008,2009,2010,2011,2012,2013,2014,2015,2016,2017,2018,2019,2020,2021],\"y\":[1,1,1,2,6,8,15,24,25,38,23,31,35,29,44,52,58,80,85,127,142,160,144,159,132,120,89,101,94,91,74,55,66,58,70,64,72,66,80,83,75,88,97,102,135,123,120,116,116,108,109,108,105,109,98,104,81,67,47,54,43,40,30,41,36,37,49,44,36,26,31,20],\"z\":[3.73,3.74,3.88,3.77,3.77,3.73875,3.788,3.7779166666666666,3.8156,3.812894736842105,3.8030434782608693,3.8116129032258064,3.775714285714286,3.8113793103448277,3.7981818181818183,3.828653846153846,3.8165517241379314,3.8111249999999997,3.786,3.792204724409449,3.780774647887324,3.795875,3.7996527777777778,3.7834591194968556,3.7836363636363637,3.7840833333333332,3.7798876404494384,3.7847524752475246,3.7772340425531916,3.7574725274725274,3.7635135135135136,3.7532727272727273,3.7615151515151513,3.7617241379310347,3.7858571428571426,3.76703125,3.7695833333333337,3.7512121212121214,3.7670000000000003,3.7673493975903614,3.7629333333333337,3.765681818181818,3.76979381443299,3.7606862745098035,3.780814814814815,3.768617886178862,3.759916666666667,3.77551724137931,3.7667241379310346,3.7730555555555556,3.77091743119266,3.768148148148148,3.7572380952380953,3.7532110091743123,3.7485714285714287,3.7422115384615386,3.752469135802469,3.7344776119402985,3.732340425531915,3.7283333333333335,3.7539534883720926,3.73675,3.7520000000000002,3.715365853658537,3.7447222222222223,3.7505405405405408,3.7685714285714287,3.7379545454545453,3.7505555555555556,3.742692307692308,3.713225806451613,3.7565],\"type\":\"scatter3d\"}],                        {\"template\":{\"data\":{\"histogram2dcontour\":[{\"type\":\"histogram2dcontour\",\"colorbar\":{\"outlinewidth\":0,\"ticks\":\"\"},\"colorscale\":[[0.0,\"#0d0887\"],[0.1111111111111111,\"#46039f\"],[0.2222222222222222,\"#7201a8\"],[0.3333333333333333,\"#9c179e\"],[0.4444444444444444,\"#bd3786\"],[0.5555555555555556,\"#d8576b\"],[0.6666666666666666,\"#ed7953\"],[0.7777777777777778,\"#fb9f3a\"],[0.8888888888888888,\"#fdca26\"],[1.0,\"#f0f921\"]]}],\"choropleth\":[{\"type\":\"choropleth\",\"colorbar\":{\"outlinewidth\":0,\"ticks\":\"\"}}],\"histogram2d\":[{\"type\":\"histogram2d\",\"colorbar\":{\"outlinewidth\":0,\"ticks\":\"\"},\"colorscale\":[[0.0,\"#0d0887\"],[0.1111111111111111,\"#46039f\"],[0.2222222222222222,\"#7201a8\"],[0.3333333333333333,\"#9c179e\"],[0.4444444444444444,\"#bd3786\"],[0.5555555555555556,\"#d8576b\"],[0.6666666666666666,\"#ed7953\"],[0.7777777777777778,\"#fb9f3a\"],[0.8888888888888888,\"#fdca26\"],[1.0,\"#f0f921\"]]}],\"heatmap\":[{\"type\":\"heatmap\",\"colorbar\":{\"outlinewidth\":0,\"ticks\":\"\"},\"colorscale\":[[0.0,\"#0d0887\"],[0.1111111111111111,\"#46039f\"],[0.2222222222222222,\"#7201a8\"],[0.3333333333333333,\"#9c179e\"],[0.4444444444444444,\"#bd3786\"],[0.5555555555555556,\"#d8576b\"],[0.6666666666666666,\"#ed7953\"],[0.7777777777777778,\"#fb9f3a\"],[0.8888888888888888,\"#fdca26\"],[1.0,\"#f0f921\"]]}],\"heatmapgl\":[{\"type\":\"heatmapgl\",\"colorbar\":{\"outlinewidth\":0,\"ticks\":\"\"},\"colorscale\":[[0.0,\"#0d0887\"],[0.1111111111111111,\"#46039f\"],[0.2222222222222222,\"#7201a8\"],[0.3333333333333333,\"#9c179e\"],[0.4444444444444444,\"#bd3786\"],[0.5555555555555556,\"#d8576b\"],[0.6666666666666666,\"#ed7953\"],[0.7777777777777778,\"#fb9f3a\"],[0.8888888888888888,\"#fdca26\"],[1.0,\"#f0f921\"]]}],\"contourcarpet\":[{\"type\":\"contourcarpet\",\"colorbar\":{\"outlinewidth\":0,\"ticks\":\"\"}}],\"contour\":[{\"type\":\"contour\",\"colorbar\":{\"outlinewidth\":0,\"ticks\":\"\"},\"colorscale\":[[0.0,\"#0d0887\"],[0.1111111111111111,\"#46039f\"],[0.2222222222222222,\"#7201a8\"],[0.3333333333333333,\"#9c179e\"],[0.4444444444444444,\"#bd3786\"],[0.5555555555555556,\"#d8576b\"],[0.6666666666666666,\"#ed7953\"],[0.7777777777777778,\"#fb9f3a\"],[0.8888888888888888,\"#fdca26\"],[1.0,\"#f0f921\"]]}],\"surface\":[{\"type\":\"surface\",\"colorbar\":{\"outlinewidth\":0,\"ticks\":\"\"},\"colorscale\":[[0.0,\"#0d0887\"],[0.1111111111111111,\"#46039f\"],[0.2222222222222222,\"#7201a8\"],[0.3333333333333333,\"#9c179e\"],[0.4444444444444444,\"#bd3786\"],[0.5555555555555556,\"#d8576b\"],[0.6666666666666666,\"#ed7953\"],[0.7777777777777778,\"#fb9f3a\"],[0.8888888888888888,\"#fdca26\"],[1.0,\"#f0f921\"]]}],\"mesh3d\":[{\"type\":\"mesh3d\",\"colorbar\":{\"outlinewidth\":0,\"ticks\":\"\"}}],\"scatter\":[{\"fillpattern\":{\"fillmode\":\"overlay\",\"size\":10,\"solidity\":0.2},\"type\":\"scatter\"}],\"parcoords\":[{\"type\":\"parcoords\",\"line\":{\"colorbar\":{\"outlinewidth\":0,\"ticks\":\"\"}}}],\"scatterpolargl\":[{\"type\":\"scatterpolargl\",\"marker\":{\"colorbar\":{\"outlinewidth\":0,\"ticks\":\"\"}}}],\"bar\":[{\"error_x\":{\"color\":\"#2a3f5f\"},\"error_y\":{\"color\":\"#2a3f5f\"},\"marker\":{\"line\":{\"color\":\"#E5ECF6\",\"width\":0.5},\"pattern\":{\"fillmode\":\"overlay\",\"size\":10,\"solidity\":0.2}},\"type\":\"bar\"}],\"scattergeo\":[{\"type\":\"scattergeo\",\"marker\":{\"colorbar\":{\"outlinewidth\":0,\"ticks\":\"\"}}}],\"scatterpolar\":[{\"type\":\"scatterpolar\",\"marker\":{\"colorbar\":{\"outlinewidth\":0,\"ticks\":\"\"}}}],\"histogram\":[{\"marker\":{\"pattern\":{\"fillmode\":\"overlay\",\"size\":10,\"solidity\":0.2}},\"type\":\"histogram\"}],\"scattergl\":[{\"type\":\"scattergl\",\"marker\":{\"colorbar\":{\"outlinewidth\":0,\"ticks\":\"\"}}}],\"scatter3d\":[{\"type\":\"scatter3d\",\"line\":{\"colorbar\":{\"outlinewidth\":0,\"ticks\":\"\"}},\"marker\":{\"colorbar\":{\"outlinewidth\":0,\"ticks\":\"\"}}}],\"scattermapbox\":[{\"type\":\"scattermapbox\",\"marker\":{\"colorbar\":{\"outlinewidth\":0,\"ticks\":\"\"}}}],\"scatterternary\":[{\"type\":\"scatterternary\",\"marker\":{\"colorbar\":{\"outlinewidth\":0,\"ticks\":\"\"}}}],\"scattercarpet\":[{\"type\":\"scattercarpet\",\"marker\":{\"colorbar\":{\"outlinewidth\":0,\"ticks\":\"\"}}}],\"carpet\":[{\"aaxis\":{\"endlinecolor\":\"#2a3f5f\",\"gridcolor\":\"white\",\"linecolor\":\"white\",\"minorgridcolor\":\"white\",\"startlinecolor\":\"#2a3f5f\"},\"baxis\":{\"endlinecolor\":\"#2a3f5f\",\"gridcolor\":\"white\",\"linecolor\":\"white\",\"minorgridcolor\":\"white\",\"startlinecolor\":\"#2a3f5f\"},\"type\":\"carpet\"}],\"table\":[{\"cells\":{\"fill\":{\"color\":\"#EBF0F8\"},\"line\":{\"color\":\"white\"}},\"header\":{\"fill\":{\"color\":\"#C8D4E3\"},\"line\":{\"color\":\"white\"}},\"type\":\"table\"}],\"barpolar\":[{\"marker\":{\"line\":{\"color\":\"#E5ECF6\",\"width\":0.5},\"pattern\":{\"fillmode\":\"overlay\",\"size\":10,\"solidity\":0.2}},\"type\":\"barpolar\"}],\"pie\":[{\"automargin\":true,\"type\":\"pie\"}]},\"layout\":{\"autotypenumbers\":\"strict\",\"colorway\":[\"#636efa\",\"#EF553B\",\"#00cc96\",\"#ab63fa\",\"#FFA15A\",\"#19d3f3\",\"#FF6692\",\"#B6E880\",\"#FF97FF\",\"#FECB52\"],\"font\":{\"color\":\"#2a3f5f\"},\"hovermode\":\"closest\",\"hoverlabel\":{\"align\":\"left\"},\"paper_bgcolor\":\"white\",\"plot_bgcolor\":\"#E5ECF6\",\"polar\":{\"bgcolor\":\"#E5ECF6\",\"angularaxis\":{\"gridcolor\":\"white\",\"linecolor\":\"white\",\"ticks\":\"\"},\"radialaxis\":{\"gridcolor\":\"white\",\"linecolor\":\"white\",\"ticks\":\"\"}},\"ternary\":{\"bgcolor\":\"#E5ECF6\",\"aaxis\":{\"gridcolor\":\"white\",\"linecolor\":\"white\",\"ticks\":\"\"},\"baxis\":{\"gridcolor\":\"white\",\"linecolor\":\"white\",\"ticks\":\"\"},\"caxis\":{\"gridcolor\":\"white\",\"linecolor\":\"white\",\"ticks\":\"\"}},\"coloraxis\":{\"colorbar\":{\"outlinewidth\":0,\"ticks\":\"\"}},\"colorscale\":{\"sequential\":[[0.0,\"#0d0887\"],[0.1111111111111111,\"#46039f\"],[0.2222222222222222,\"#7201a8\"],[0.3333333333333333,\"#9c179e\"],[0.4444444444444444,\"#bd3786\"],[0.5555555555555556,\"#d8576b\"],[0.6666666666666666,\"#ed7953\"],[0.7777777777777778,\"#fb9f3a\"],[0.8888888888888888,\"#fdca26\"],[1.0,\"#f0f921\"]],\"sequentialminus\":[[0.0,\"#0d0887\"],[0.1111111111111111,\"#46039f\"],[0.2222222222222222,\"#7201a8\"],[0.3333333333333333,\"#9c179e\"],[0.4444444444444444,\"#bd3786\"],[0.5555555555555556,\"#d8576b\"],[0.6666666666666666,\"#ed7953\"],[0.7777777777777778,\"#fb9f3a\"],[0.8888888888888888,\"#fdca26\"],[1.0,\"#f0f921\"]],\"diverging\":[[0,\"#8e0152\"],[0.1,\"#c51b7d\"],[0.2,\"#de77ae\"],[0.3,\"#f1b6da\"],[0.4,\"#fde0ef\"],[0.5,\"#f7f7f7\"],[0.6,\"#e6f5d0\"],[0.7,\"#b8e186\"],[0.8,\"#7fbc41\"],[0.9,\"#4d9221\"],[1,\"#276419\"]]},\"xaxis\":{\"gridcolor\":\"white\",\"linecolor\":\"white\",\"ticks\":\"\",\"title\":{\"standoff\":15},\"zerolinecolor\":\"white\",\"automargin\":true,\"zerolinewidth\":2},\"yaxis\":{\"gridcolor\":\"white\",\"linecolor\":\"white\",\"ticks\":\"\",\"title\":{\"standoff\":15},\"zerolinecolor\":\"white\",\"automargin\":true,\"zerolinewidth\":2},\"scene\":{\"xaxis\":{\"backgroundcolor\":\"#E5ECF6\",\"gridcolor\":\"white\",\"linecolor\":\"white\",\"showbackground\":true,\"ticks\":\"\",\"zerolinecolor\":\"white\",\"gridwidth\":2},\"yaxis\":{\"backgroundcolor\":\"#E5ECF6\",\"gridcolor\":\"white\",\"linecolor\":\"white\",\"showbackground\":true,\"ticks\":\"\",\"zerolinecolor\":\"white\",\"gridwidth\":2},\"zaxis\":{\"backgroundcolor\":\"#E5ECF6\",\"gridcolor\":\"white\",\"linecolor\":\"white\",\"showbackground\":true,\"ticks\":\"\",\"zerolinecolor\":\"white\",\"gridwidth\":2}},\"shapedefaults\":{\"line\":{\"color\":\"#2a3f5f\"}},\"annotationdefaults\":{\"arrowcolor\":\"#2a3f5f\",\"arrowhead\":0,\"arrowwidth\":1},\"geo\":{\"bgcolor\":\"white\",\"landcolor\":\"#E5ECF6\",\"subunitcolor\":\"white\",\"showland\":true,\"showlakes\":true,\"lakecolor\":\"white\"},\"title\":{\"x\":0.05},\"mapbox\":{\"style\":\"light\"}}},\"scene\":{\"domain\":{\"x\":[0.0,1.0],\"y\":[0.0,1.0]},\"xaxis\":{\"title\":{\"text\":\"x\"}},\"yaxis\":{\"title\":{\"text\":\"y\"}},\"zaxis\":{\"title\":{\"text\":\"z\"}}},\"legend\":{\"tracegroupgap\":0},\"margin\":{\"t\":60}},                        {\"responsive\": true}                    ).then(function(){\n",
       "                            \n",
       "var gd = document.getElementById('dca54ea3-0258-4139-98af-9afb602d1de7');\n",
       "var x = new MutationObserver(function (mutations, observer) {{\n",
       "        var display = window.getComputedStyle(gd).display;\n",
       "        if (!display || display === 'none') {{\n",
       "            console.log([gd, 'removed!']);\n",
       "            Plotly.purge(gd);\n",
       "            observer.disconnect();\n",
       "        }}\n",
       "}});\n",
       "\n",
       "// Listen for the removal of the full notebook cells\n",
       "var notebookContainer = gd.closest('#notebook-container');\n",
       "if (notebookContainer) {{\n",
       "    x.observe(notebookContainer, {childList: true});\n",
       "}}\n",
       "\n",
       "// Listen for the clearing of the current output cell\n",
       "var outputEl = gd.closest('.output');\n",
       "if (outputEl) {{\n",
       "    x.observe(outputEl, {childList: true});\n",
       "}}\n",
       "\n",
       "                        })                };                });            </script>        </div>"
      ]
     },
     "metadata": {},
     "output_type": "display_data"
    }
   ],
   "source": [
    "\n",
    "\n",
    "# Load data from CSV file\n",
    "data = pd.read_csv('rym_top_5000_all_time.csv')\n",
    "\n",
    "# Extract data from the DataFrame\n",
    "years = count_by_year['Year']\n",
    "counts = count_by_year['Count']\n",
    "ratings = average_ratings_by_year['Average Rating']\n",
    "\n",
    "# Create an interactive 3D scatter plot with Plotly\n",
    "fig = px.scatter_3d(data, x=years, y=counts, z=ratings, labels={'Year': 'Year', 'Count': 'Count by Year', 'Average Rating': 'Average Ratings by Year'})\n",
    "\n",
    "ax.set_xlabel('Year')\n",
    "ax.set_ylabel('count by year')\n",
    "ax.set_zlabel('average ratings by year')\n",
    "\n",
    "# Show the plot\n",
    "fig.show()"
   ]
  },
  {
   "cell_type": "code",
   "execution_count": null,
   "id": "0786c545-8699-4950-8b9c-137b5d6ff579",
   "metadata": {},
   "outputs": [],
   "source": []
  }
 ],
 "metadata": {
  "kernelspec": {
   "display_name": "Python 3 (ipykernel)",
   "language": "python",
   "name": "python3"
  },
  "language_info": {
   "codemirror_mode": {
    "name": "ipython",
    "version": 3
   },
   "file_extension": ".py",
   "mimetype": "text/x-python",
   "name": "python",
   "nbconvert_exporter": "python",
   "pygments_lexer": "ipython3",
   "version": "3.12.1"
  }
 },
 "nbformat": 4,
 "nbformat_minor": 5
}
